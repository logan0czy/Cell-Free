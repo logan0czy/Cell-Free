{
 "metadata": {
  "language_info": {
   "codemirror_mode": {
    "name": "ipython",
    "version": 3
   },
   "file_extension": ".py",
   "mimetype": "text/x-python",
   "name": "python",
   "nbconvert_exporter": "python",
   "pygments_lexer": "ipython3",
   "version": "3.8.5-final"
  },
  "orig_nbformat": 2,
  "kernelspec": {
   "name": "Python 3.8.5 64-bit ('base')",
   "display_name": "Python 3.8.5 64-bit ('base')",
   "metadata": {
    "interpreter": {
     "hash": "046d2accc3b065719d5274c176c53a13b33f505b590d42da0a83425461fe39aa"
    }
   }
  }
 },
 "nbformat": 4,
 "nbformat_minor": 2,
 "cells": [
  {
   "cell_type": "code",
   "execution_count": 1,
   "metadata": {},
   "outputs": [
    {
     "output_type": "stream",
     "name": "stdout",
     "text": [
      "Using matplotlib backend: MacOSX\n"
     ]
    }
   ],
   "source": [
    "import math\n",
    "import numpy as np\n",
    "import matplotlib.pyplot as plt\n",
    "import seaborn as sns\n",
    "sns.set()\n",
    "%matplotlib\n",
    "from bases import CodeBook"
   ]
  },
  {
   "cell_type": "code",
   "execution_count": 2,
   "metadata": {},
   "outputs": [],
   "source": [
    "# -------- 2-D beamforming -------- \n",
    "cbook_bs = CodeBook(codes=8, antennas=4)\n",
    "codes_bs = cbook_bs.generate()\n",
    "plt.figure(figsize=(8, 8))\n",
    "for code in codes_bs:\n",
    "    thetas = np.linspace(0, 2*math.pi, num=100, endpoint=False)\n",
    "    phase_shift = np.array(\n",
    "        [1/math.sqrt(cbook_bs.antennas)*np.exp(1j*math.pi*np.arange(cbook_bs.antennas)*math.cos(theta))\n",
    "        for theta in thetas])\n",
    "    value = abs(np.sum(code*phase_shift, axis=1))\n",
    "    plt.polar(thetas, value)\n",
    "plt.show()"
   ]
  },
  {
   "cell_type": "code",
   "execution_count": 4,
   "metadata": {},
   "outputs": [],
   "source": [
    "# -------- 3-D beamforming --------   \n",
    "cbook_v = CodeBook(10, 4, 4)\n",
    "cbook_h = CodeBook(10, 8, 4)\n",
    "cbook_v.generate()\n",
    "cbook_h.generate()\n",
    "cbook_v.book = cbook_v.book * math.sqrt(cbook_v.antennas)\n",
    "cbook_h.book = cbook_h.book * math.sqrt(cbook_h.antennas)\n",
    "\n",
    "code_v, code_h = cbook_v.book[0], cbook_h.book[0]\n",
    "thetas = np.linspace(0, 2*math.pi, 100, endpoint=False)\n",
    "betas = np.linspace(-math.pi/2, math.pi/2, 50)\n",
    "values = np.zeros((len(betas), len(thetas)))\n",
    "for i, beta in enumerate(betas):\n",
    "    for j, theta in enumerate(thetas):\n",
    "        phase_shift_v = 1/math.sqrt(cbook_v.antennas)*np.exp(1j*math.pi*np.arange(cbook_v.antennas)*math.sin(beta))\n",
    "        phase_shift_h = 1/math.sqrt(cbook_h.antennas)*np.exp(1j*math.pi*np.arange(cbook_h.antennas)*math.cos(theta)*math.cos(beta))\n",
    "        values[i, j] = abs(np.sum(np.kron(code_v*phase_shift_v, code_h*phase_shift_h)))\n",
    "\n",
    "from mpl_toolkits import mplot3d\n",
    "import mpl_toolkits.mplot3d.axes3d as axes3d\n",
    "plt.figure(figsize=(8, 8))\n",
    "ax = plt.axes(projection='3d')\n",
    "\n",
    "THETA, BETA = np.meshgrid(thetas, betas)\n",
    "X = values * np.cos(BETA) * np.sin(THETA)\n",
    "Y = values * np.cos(BETA) * np.cos(THETA)\n",
    "Z = values * np.sin(BETA)\n",
    "plot = ax.plot_surface(X, Y, Z, rstride=1, cstride=1, cmap=plt.get_cmap('jet'),\n",
    "    linewidth=0, antialiased=False, alpha=0.5)\n",
    "plt.colorbar(plot)\n",
    "plt.show()"
   ]
  },
  {
   "cell_type": "code",
   "execution_count": null,
   "metadata": {},
   "outputs": [],
   "source": []
  }
 ]
}