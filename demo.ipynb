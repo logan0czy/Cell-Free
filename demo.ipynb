{
 "metadata": {
  "language_info": {
   "codemirror_mode": {
    "name": "ipython",
    "version": 3
   },
   "file_extension": ".py",
   "mimetype": "text/x-python",
   "name": "python",
   "nbconvert_exporter": "python",
   "pygments_lexer": "ipython3",
   "version": "3.8.5-final"
  },
  "orig_nbformat": 2,
  "kernelspec": {
   "name": "Python 3.8.5 64-bit ('ml': conda)",
   "display_name": "Python 3.8.5 64-bit ('ml': conda)",
   "metadata": {
    "interpreter": {
     "hash": "0a114f24acd56b1f14b2a5bbcf87ab4b884d79f52130b09b4b8cf036e05d9cd5"
    }
   }
  }
 },
 "nbformat": 4,
 "nbformat_minor": 2,
 "cells": [
  {
   "cell_type": "code",
   "execution_count": null,
   "metadata": {},
   "outputs": [],
   "source": [
    "from run import train\n",
    "env_kwargs = {'max_power': 30, 'bs_atn': 4, 'ris_atn': (8, 4)}\n",
    "net_kwargs = {'critic_hidden_sizes': [1024, 512, 256], \n",
    "              'actor_hidden_sizes': [1024, 512, 256],\n",
    "              'act_limit': 1}\n",
    "cbook_kwargs = {'bs_codes': 10, 'ris_codes': 8, \n",
    "                'bs_phases': 8,\n",
    "                'ris_azi_phases': 4,\n",
    "                'ris_ele_phases': 4}\n",
    "train(env_kwargs, net_kwargs, cbook_kwargs, act_noise=2, tgt_noise=0, noise_clip=0)"
   ]
  },
  {
   "cell_type": "code",
   "execution_count": null,
   "metadata": {},
   "outputs": [],
   "source": []
  }
 ]
}